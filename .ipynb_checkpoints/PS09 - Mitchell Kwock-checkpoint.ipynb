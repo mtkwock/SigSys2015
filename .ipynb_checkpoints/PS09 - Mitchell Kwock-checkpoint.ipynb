{
 "metadata": {
  "name": "",
  "signature": "sha256:2b3ec39a42298ef273112ddfd24f407b1732bcece625130ab87175b81802f143"
 },
 "nbformat": 3,
 "nbformat_minor": 0,
 "worksheets": [
  {
   "cells": [
    {
     "cell_type": "code",
     "collapsed": false,
     "input": [
      "import numpy as np\n",
      "import pyaudio\n",
      "from array import array\n",
      "import matplotlib.pyplot as mplib\n",
      "import scipy.io.wavfile as wav\n",
      "%matplotlib inline\n",
      "plt = mplib\n",
      "\n",
      "# This function converts a string into a numpy array of bits\n",
      "# note that it is assumed that each character is 7 bits long here\n",
      "def string2NPArray(s):\n",
      "    bits = np.array([])\n",
      "    for a in bytearray(s, 'ascii'):\n",
      "        for b in range(0,7):\n",
      "            bits = np.append(bits,float((a>>(7-b-1))&1))\n",
      "    return bits\n",
      "\n",
      "# This function converts a numpy array of bits to a string\n",
      "# note that it is assumed that each character is 7 bits long here\n",
      "def NPbits2String(bits):\n",
      "    S = \"\"\n",
      "    for a in np.arange(0, np.ceil(len(bits)/7)):\n",
      "        tmp = 0\n",
      "        for k in np.arange(0,7):\n",
      "            b = bits[a*7+k]\n",
      "            tmp = tmp + (2**(6-k))*b\n",
      "        S = S + chr(int(tmp))\n",
      "    return S\n",
      "\n",
      "\n",
      "# this function plays samples through the speaker\n",
      "# at sample rate of rate\n",
      "def play_samples(x, rate=8000, chunk_size = 1000):\n",
      "   \n",
      "    p = pyaudio.PyAudio()\n",
      "    stream = p.open(format= pyaudio.paInt16, channels=1, rate=rate,\n",
      "        input=False, output=True,\n",
      "        frames_per_buffer=len(x))\n",
      "    stream.write(x.astype(np.int16).tostring())\n",
      "    stream.stop_stream()\n",
      "    stream.close()\n",
      "    p.terminate()\n",
      "    \n",
      "\n",
      "# this is a utility function that  finds the start and  end \n",
      "# of transmission in the numpy array of samples xf\n",
      "# The function looks for the first instance where the entries of xf\n",
      "# go above threshold and returns the index into xf where this happens\n",
      "# in start_idx\n",
      "# The function looks for the last instance where the entries of xf\n",
      "# are above threshold and returns the index into xf where this happens\n",
      "# in end_idx\n",
      "# \n",
      "# You will probably have to do some trial and error to get the threshold right\n",
      "# one possibility is to se the threshold equal to some factor of the maximum value\n",
      "# in the input signal,  e.g. 0.3 * maximum value in xf\n",
      "#\n",
      "def find_start_and_end(xf, threshold = 2000): \n",
      "    import numpy as np    \n",
      "    start_idx = -1\n",
      " \n",
      "    for k in range(0, len(xf)):\n",
      "        if(np.abs(xf[k])) > threshold:\n",
      "            start_idx = k\n",
      "            break\n",
      "\n",
      "    if(start_idx  < 0):\n",
      "        print \"Unable to detect start of transmission\"\n",
      "        return -1\n",
      "    \n",
      "    end_idx = -1\n",
      "    \n",
      "    for k in range(0, len(xf)):\n",
      "        if(np.abs(xf[len(xf)-k-1])) > threshold:\n",
      "            end_idx = len(xf)-k-1\n",
      "            break\n",
      "\n",
      "    if(end_idx < 0):\n",
      "        print \"Unable to detect end of transmission\"\n",
      "        return -1\n",
      "\n",
      "    return start_idx, end_idx\n",
      "\n",
      "    "
     ],
     "language": "python",
     "metadata": {},
     "outputs": [],
     "prompt_number": 1
    },
    {
     "cell_type": "markdown",
     "metadata": {},
     "source": [
      "bpsk is a module that is provided as python bytecode. bpsk.help() provides the syntax and definitions of the parameters of the functions that are included in the bpsk module"
     ]
    },
    {
     "cell_type": "code",
     "collapsed": false,
     "input": [
      "import bpsk\n",
      "\n",
      "bpsk.help()"
     ],
     "language": "python",
     "metadata": {},
     "outputs": [
      {
       "output_type": "stream",
       "stream": "stdout",
       "text": [
        "This module provides:\n",
        "\n",
        "     generate_bpsk_signal(bits, rate=8000, symbol_len = 250, freq = 1000):\n",
        "         Returns a numpy array which is a BPSK encoding of bits\n",
        "         1 symbol worth of zeros are added at the beginning and the end to aid detection of transmission start\n",
        "         A 1 bit is added to the beginning to help with synchronization\n",
        "         bits -  a numpy array of 1s and 0s\n",
        "         rate - sample rate used\n",
        "         symbol_len - length in samples of the rectangular pulse used to encode the bits\n",
        "         freq - carrier frequency in Hz\n",
        "\n",
        "     decode_bpsk_signal(x, freq=1000, rate = 8000, symbol_len = 250, detection_threshold_factor = 0.3, LPFbw = 320):\n",
        "         Decodes a received BPSK signal in vector x and produces a numpyarray of bits \n",
        "         The function uses a brute-force approach to carrier phase synchronization by checking 16 evenly spaced\n",
        "         phase offsets between -pi and pi to find the one which results in the strongest demodulated signal\n",
        "         which is then used as the demodulated signal\n",
        "         The first bit is assumed to be a control bit that always equals 1. This bit is not returned in the final output\n",
        "         x - a numpy array of the received audio samples\n",
        "         freq - carrier frequency \n",
        "         rate - sample rate used \n",
        "         symbol_len - length in samples of the rectangular pulse\n",
        "         detection_threshold_factor - this is used for detecting the start and end of transmission\n",
        "                                      the start of transmission is the first sample that exceeds\n",
        "                                      detection_threshold_factor times the maximum value in x\n",
        "                                      the end of transmission is the last sample that exceeds\n",
        "                                      detection_threshold_factor times the maximum value in x\n",
        "         LPFbw - this is the bandwidth in rad/sec of the low-pass filter that is used after\n",
        "                 multiplying with a cosine\n"
       ]
      }
     ],
     "prompt_number": 2
    },
    {
     "cell_type": "markdown",
     "metadata": {},
     "source": [
      "The following cell generates a bpsk signal and plays it through the sound card\n",
      "Your job will be to make your own function that generates the transmitted signal, i.e. your own version of bpsk.generate_bpsk_signal"
     ]
    },
    {
     "cell_type": "code",
     "collapsed": false,
     "input": [
      "bits = string2NPArray(\"Hello\")\n",
      "x = bpsk.generate_bpsk_signal(bits, rate = 8820, symbol_len = 250, freq = 1000)\n",
      "\n",
      "rate = 8820\n",
      "# plot the signal to visualize\n",
      "# first make a vector to represent the sampling times\n",
      "# the times range from t = 0 up to the length of the data samples times the sampling period\n",
      "ts = np.arange(0, len(x)/float(rate), 1/float(rate))\n",
      "# plot the signal in the time domain\n",
      "# you should zoom in to see the BPSK signal\n",
      "mplib.plot(ts, x)\n",
      "mplib.show()\n",
      "\n",
      "\n"
     ],
     "language": "python",
     "metadata": {},
     "outputs": [
      {
       "metadata": {},
       "output_type": "display_data",
       "png": "[encoded data removed]",
       "text": [
        "<matplotlib.figure.Figure at 0x45b8ba8>"
       ]
      }
     ],
     "prompt_number": 3
    },
    {
     "cell_type": "code",
     "collapsed": false,
     "input": [
      "# play the samples on the soundcard\n",
      "play_samples(x, rate=8820, chunk_size = 1000)\n",
      "print(len(x))"
     ],
     "language": "python",
     "metadata": {},
     "outputs": [
      {
       "output_type": "stream",
       "stream": "stdout",
       "text": [
        "9500\n"
       ]
      }
     ],
     "prompt_number": 4
    },
    {
     "cell_type": "code",
     "collapsed": false,
     "input": [
      "def find_start_and_end(xf, threshold = 2000): \n",
      "    start_idx = -1\n",
      " \n",
      "    for k in range(0, len(xf)):\n",
      "        if(np.abs(xf[k])) > threshold:\n",
      "            start_idx = k\n",
      "            break\n",
      "\n",
      "    if(start_idx  < 0):\n",
      "        print \"Unable to detect start of transmission\"\n",
      "        return -1\n",
      "    \n",
      "    end_idx = -1\n",
      "    \n",
      "    for k in range(0, len(xf)):\n",
      "        if(np.abs(xf[len(xf)-k-1])) > threshold:\n",
      "            end_idx = len(xf)-k-1\n",
      "            break\n",
      "\n",
      "    if(end_idx < 0):\n",
      "        print \"Unable to detect end of transmission\"\n",
      "        return -1\n",
      "\n",
      "    return start_idx, end_idx\n",
      "\n",
      "\n",
      "fs = 8820\n",
      "def trim_signal(sig, thresh=0.3):\n",
      "    threshold = max(sig) * thresh\n",
      "    start, end = find_start_and_end(sig, threshold)\n",
      "    trimmed = sig[start:end]\n",
      "    return trimmed\n",
      "\n",
      "def my_bpsk(bits, rate=8000, symbol_len=250, freq=1000):\n",
      "    '''\n",
      "    Implementation of the bpsk algorithm.  Takes a series of bits and returns a signal which encodes the bits.\n",
      "    Each value of 0 is phase-shifted by pi radians (Negated), and each value of 1 is not phase shifted at all\n",
      "    bits: list of bits to be sent\n",
      "    rate: Framerate (Frames/s)\n",
      "    symbol_len: How many frames each bit is\n",
      "    freq: Carrier frequency of the original cosine waveb\n",
      "    '''\n",
      "    omega = 2 * np.pi * freq\n",
      "    amp = 8192\n",
      "    info = [1.0] + bits.tolist() # Appends a 1 in front in order to define what the actual signal is\n",
      "    ts = [1.0 * val / rate for val in range(len(info) * symbol_len)]\n",
      "    shift = np.pi * -0.25\n",
      "    signal = [\n",
      "        8192 * np.cos(omega * ts[idx] + shift) if info[idx / symbol_len] == 1.0 else\n",
      "        8192 * np.cos(omega * ts[idx] + np.pi + shift) for idx in range(len(ts))]\n",
      "    signal_buff = [0] * symbol_len + signal + [0] * symbol_len\n",
      "    return np.asarray(signal_buff)\n",
      "\n",
      "def my_bpsk_decode(x, freq=1000, rate=8000, symbol_len=250, threshold=0.3, threshold2=0.5):\n",
      "    '''\n",
      "    Decodes the bpsk signal x\n",
      "    freq: Carrier frequency of the original cosine wave\n",
      "    symbol_len: Number of units in the signal that denotes one symbol\n",
      "    threshold: Account for error\n",
      "    '''\n",
      "    sig = trim_signal(x, threshold)\n",
      "    num_symbols = (len(sig) + symbol_len / 2)/ symbol_len - 1 # Rounds number of symbols\n",
      "    base = []\n",
      "    diffs = []\n",
      "    for i in range(num_symbols):\n",
      "        # Checks against first value (which is known to be the same) and logs the absolute difference\n",
      "        # Against the first value\n",
      "        spectrum = np.fft.fft(sig[i * symbol_len + symbol_len / 2: (i+1) * symbol_len + symbol_len / 2])\n",
      "        mags = abs(spectrum)\n",
      "        if(i == 0):\n",
      "            base = mags\n",
      "        else:\n",
      "            diffs = diffs + [sum(abs(mags - base))]\n",
      "    thresh = max(diffs) * threshold2\n",
      "    switch = [d > thresh for d in diffs] # Checks if the difference is consderable enough, logs the switches\n",
      "    bits = [1.0]\n",
      "    for i in range(len(switch)):\n",
      "        bits = bits + [1.0 if (bits[i] ==1.0) != switch[i] else 0] # Apply the switches using an XOR\n",
      "        \n",
      "    string = NPbits2String(np.asarray(bits))\n",
      "    return string\n",
      "\n",
      "def bpsk_string(string, rate=8820, symbol_len=250, freq=1000):\n",
      "    bits = string2NPArray(string)\n",
      "    return my_bpsk(bits, rate, symbol_len, freq)"
     ],
     "language": "python",
     "metadata": {},
     "outputs": [],
     "prompt_number": 5
    },
    {
     "cell_type": "code",
     "collapsed": false,
     "input": [
      "my_x = bpsk_string(\"Hello World\")\n",
      "string = my_bpsk_decode(my_x, freq=1000, rate=8820, symbol_len=250, threshold=0.1, threshold2=0.5)\n",
      "n = 1\n",
      "print(string)"
     ],
     "language": "python",
     "metadata": {},
     "outputs": [
      {
       "output_type": "stream",
       "stream": "stdout",
       "text": [
        "Hello World\n"
       ]
      }
     ],
     "prompt_number": 6
    },
    {
     "cell_type": "code",
     "collapsed": false,
     "input": [
      "# this function gets samples from the microphone\n",
      "# it waits until there are samples greater than threshold\n",
      "# and keeps collecting samples until there is a block of chunk_size samples\n",
      "# without a single sample over threshold\n",
      "def get_samples_from_mic(sample_rate = 8000, threshold = 1000, chunk_size = 1000):\n",
      "\n",
      "    import numpy as np\n",
      "    \n",
      "    # initialize pyaudio object\n",
      "    p = pyaudio.PyAudio()\n",
      "    stream = p.open(format=pyaudio.paInt16, channels=1, rate=sample_rate,\n",
      "            input=True, output=False,\n",
      "            frames_per_buffer=chunk_size)\n",
      "\n",
      "    \n",
      "    def is_silent(snd_data, th):\n",
      "    #\"Returns 'True' if below the 'silent' threshold\"\n",
      "        return max(snd_data) < th\n",
      "    \n",
      "def record_from_mic_windows(duration = 10, filename = 'AcousticModemRx.wav'):\n",
      "\n",
      "    import subprocess\n",
      "    import time\n",
      "    cmd = \"SoundRecorder /FILE %s /DURATION 0000:00:%2d\" % (filename, duration)\n",
      "    print subprocess.check_output(cmd, shell=True)\n",
      "\n",
      "    # wait for the recording to complete\n",
      "    time.sleep(duration+2)\n",
      "  \n",
      "    # because soundrecorder in windows cannot set the sample rate \n",
      "    # we have to manually resample here\n",
      "\n",
      "    # read the wave file into sig      \n",
      "    fs, sig = wavfile.read(filename)\n",
      "    \n",
      "    \n",
      "    # if fs not 44100, return an error\n",
      "    if (fs != 44100):\n",
      "        print \"Sample rate must be 44100. Found it to be %d\" % fs\n",
      "        print \"Please change it in Windows Control Panel -> Sound -> Recording -> Microphone -> Advanced\"\n",
      "        return\n",
      "    \n",
      "    # discard one of the stereo channels\n",
      "    sig = sig[:,0]\n",
      "    \n",
      "    # make a lowpass filter with cutoff 4410\n",
      "    # this is going to be our anti-aliasing filter\n",
      "    ts = np.arange(0, len(sig)/float(fs), 1/float(fs))\n",
      "    filt = np.sinc(np.arange(-64/float(fs), 64/float(fs), 1/float(fs))/np.pi * 4410.0*2*np.pi)\n",
      "    \n",
      "    # lowpass filter the signal to avoid inadvertent aliasing\n",
      "    sig_down = np.convolve(filt, sig)\n",
      "    \n",
      "    # Downsample by 5 to go from 44100 -> 8820Hz\n",
      "    sig_down = sig_down[0:len(sig_down): 5]\n",
      "     \n",
      "    return (8820, sig_down)\n",
      "\n",
      "    \n",
      "# this function is used to help convert numpy array data into a format\n",
      "# suitable for writing into a wave file\n",
      "def convert_to_int16(sig):\n",
      "    # convert into int16  to write as wave\n",
      "    sig = (sig/np.max(sig))*(2**14)\n",
      "    sig = sig.astype('int16')\n",
      "    return sig\n",
      "\n",
      "# this function plays samples through the speaker\n",
      "# at sample rate of rate\n",
      "def play_samples(x, rate=8000, chunk_size = 1000):\n",
      "    p = pyaudio.PyAudio()\n",
      "    stream = p.open(format= pyaudio.paInt16, channels=1, rate=rate,\n",
      "        input=False, output=True,\n",
      "        frames_per_buffer=len(x))\n",
      "    stream.write(x.astype(np.int16).tostring())\n",
      "    stream.stop_stream()\n",
      "    stream.close()\n",
      "    p.terminate()\n",
      "    \n",
      "def transmit(msg, rate=8820, chunk_size=1000):\n",
      "    sig = bpsk_string(msg)\n",
      "    plt.plot(sig)\n",
      "    plt.ylabel(\"Amplitude\")\n",
      "    plt.xlabel(\"Time ($\\frac{1}{\" + str(rate) + \"}$)\")\n",
      "    plt.title(\"Modulated Signal\")\n",
      "    plt.show()\n",
      "    play_samples(convert_to_int16(sig), rate, chunk_size)\n"
     ],
     "language": "python",
     "metadata": {},
     "outputs": [],
     "prompt_number": 7
    },
    {
     "cell_type": "code",
     "collapsed": false,
     "input": [
      "signal = bpsk_string(\"Lorem Ipsum\", 8820)\n",
      "\n",
      "wav.write(\"Lorem.wav\", 8820, convert_to_int16(signal)) # Played through a Wavfile and recorded using Audacity"
     ],
     "language": "python",
     "metadata": {},
     "outputs": [],
     "prompt_number": 8
    },
    {
     "cell_type": "markdown",
     "metadata": {},
     "source": [
      "You should turn in your transmitter and receiver code in 1 or 2 ipython notebooks. \n",
      "\n",
      "Your receiver ipython notebook should include inline plots of the raw received signal, signal after demodulation, and any output that the code produces. \n"
     ]
    },
    {
     "cell_type": "code",
     "collapsed": false,
     "input": [
      "rate, raw_data = wav.read('Lorem_Recorded.wav')\n",
      "plt.plot(raw_data)\n",
      "plt.xlabel(\"Unit steps 1/8820\")\n",
      "plt.ylabel(\"Height\")\n",
      "plt.title(\"Raw Receive from Audacity\")"
     ],
     "language": "python",
     "metadata": {},
     "outputs": [
      {
       "metadata": {},
       "output_type": "pyout",
       "prompt_number": 22,
       "text": [
        "<matplotlib.text.Text at 0x200b3b00>"
       ]
      },
      {
       "metadata": {},
       "output_type": "display_data",
       "png": "[encoded data removed]",
       "text": [
        "<matplotlib.figure.Figure at 0x201f1b00>"
       ]
      }
     ],
     "prompt_number": 22
    },
    {
     "cell_type": "code",
     "collapsed": false,
     "input": [
      "hs = [val[0] for val in raw_data]\n",
      "string = my_bpsk_decode(hs, freq=1000, rate=8820, symbol_len=250, threshold=0.05, threshold2=0.50)\n",
      "print(string)"
     ],
     "language": "python",
     "metadata": {},
     "outputs": [
      {
       "output_type": "stream",
       "stream": "stdout",
       "text": [
        "Lhrem Ipsum\n"
       ]
      }
     ],
     "prompt_number": 39
    },
    {
     "cell_type": "code",
     "collapsed": false,
     "input": [
      "strings_tests = [(my_bpsk_decode(hs, freq=1000, rate=8820, symbol_len=250, threshold=0.1, threshold2=(0.4 + x * 0.01)), 0.4 + x * 0.01) for x in range(20)]"
     ],
     "language": "python",
     "metadata": {},
     "outputs": [],
     "prompt_number": 45
    },
    {
     "cell_type": "code",
     "collapsed": false,
     "input": [
      "for string, thresh in strings_tests:\n",
      "    print \"Threshold: \" + str(thresh) + \" Output: \"+ string"
     ],
     "language": "python",
     "metadata": {},
     "outputs": [
      {
       "output_type": "stream",
       "stream": "stdout",
       "text": [
        "Threshold: 0.4 Output: K(rj\u0012\\Iw\r",
        "um\n",
        "Threshold: 0.41 Output: K(rj\u0012\\Iw\r",
        "um\n",
        "Threshold: 0.42 Output: LW\r",
        "\u0015m#6\br\n",
        "\u0012\n",
        "Threshold: 0.43 Output: LW\r",
        "\u0015m#6\br\n",
        "\u0012\n",
        "Threshold: 0.44 Output: Lhrj\u0012\\Iw\r",
        "um\n",
        "Threshold: 0.45 Output: Lhrj\u0012\\Iw\f",
        "\n",
        "\u0012\n",
        "Threshold: 0.46 Output: Lhrj\u0012\\Iw\f",
        "\n",
        "\u0012\n",
        "Threshold: 0.47 Output: Lhrj\u0012\\Iw\f",
        "\n",
        "\u0012\n",
        "Threshold: 0.48 Output: Lhrem#6\u000f\f",
        "\n",
        "\u0012\n",
        "Threshold: 0.49 Output: Lhrem#6\u000f\f",
        "\n",
        "\u0012\n",
        "Threshold: 0.5 Output: Lhrem Ipsum\n",
        "Threshold: 0.51 Output: Lo\r",
        "\u001a\u0012_6\u000f\f",
        "\n",
        "\u0012\n",
        "Threshold: 0.52 Output: Lo\r",
        "\u001a\u0012_6\u000f\f",
        "\n",
        "\u0012\n",
        "Threshold: 0.53 Output: Lorem Ipsum\n",
        "Threshold: 0.54 Output: Lorem Ipsum\n",
        "Threshold: 0.55 Output: Lorem Ipsum\n",
        "Threshold: 0.56 Output: Lorem Ipsum\n",
        "Threshold: 0.57 Output: Lorem Ipsum\n",
        "Threshold: 0.58 Output: Lorem Ipsum\n",
        "Threshold: 0.59 Output: Lorem Ipsum\n"
       ]
      }
     ],
     "prompt_number": 48
    },
    {
     "cell_type": "code",
     "collapsed": false,
     "input": [],
     "language": "python",
     "metadata": {},
     "outputs": []
    }
   ],
   "metadata": {}
  }
 ]
}